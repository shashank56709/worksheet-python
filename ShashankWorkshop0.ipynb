{
  "metadata": {
    "kernelspec": {
      "name": "python",
      "display_name": "Python (Pyodide)",
      "language": "python"
    },
    "language_info": {
      "codemirror_mode": {
        "name": "python",
        "version": 3
      },
      "file_extension": ".py",
      "mimetype": "text/x-python",
      "name": "python",
      "nbconvert_exporter": "python",
      "pygments_lexer": "ipython3",
      "version": "3.8"
    }
  },
  "nbformat_minor": 4,
  "nbformat": 4,
  "cells": [
    {
      "cell_type": "code",
      "source": "#Task 1,2 and 3\ncold=[]\nmild=[]\ncomfortable=[]\ndef temp_add(temperature):\n\n    for i in temperature:\n        if i<10:\n            cold.append(i)\n        elif i>10 and i<15:\n            mild.append(i)\n        else:\n            comfortable.append(i)\n    print(\"Cold Temp is\",cold)\n    print(\"Mild Temp is\",mild)\n    print(\"Comfortable Temperature is\",comfortable)\ndef check_temp():\n    print(\"No of Cold is\",len(cold))\n    print(\"No of Mild is\",len(mild))\n    print(\"No of Comfortable is\",len(comfortable))\n\ntemperatures = [8.2, 17.4, 14.1, 7.9, 18.0, 13.5, 9.0, 17.8, 13.0, 8.5,\n16.5, 12.9, 7.7, 17.2, 13.3, 8.4, 16.7, 14.0, 9.5, 18.3, 13.4, 8.1,\n17.9, 14.2, 7.6, 17.0, 12.8, 8.0, 16.8, 13.7, 7.8, 17.5, 13.6, 8.7,\n17.1, 13.8, 9.2, 18.1, 13.9, 8.3, 16.4, 12.7, 8.9, 18.2, 13.1, 7.8,\n16.6, 12.5]\ntemp_add(temperatures)\ncheck_temp()\ntemp_in_farheinheit=[]\n\ndef covert_temperature():\n    for j in temperatures:\n        far = round(j*(9/5))+32\n        temp_in_farheinheit.append(far)\n    return temp_in_farheinheit\nprint(covert_temperature())\n\nnight=[]\nevening=[]\nday=[]\ndef temp_day():\n    for k in temperatures:\n        if k>0 and k<=8:\n            night.append(k)\n        elif k>8 and k<=16:\n            evening.append(k)\n        else:\n            day.append(k)\n    print(\"night Temp is\",night)\n    print(\"evening Temp is\",evening)\n    print(\"day Temperature is\",day)\n    total=0\n    for temp in day:\n        total+=temp\n    avg = total/len(day)\n    print(avg)\ntemp_day()\nnight=[]\nevening=[]\nday=[]\ndef temp_day():\n    for k in temperatures:\n        if k>0 and k<=8:\n            night.append(k)\n        elif k>8 and k<=16:\n            evening.append(k)\n        else:\n            day.append(k)\n    print(\"night Temp is\",night)\n    print(\"evening Temp is\",evening)\n    print(\"day Temperature is\",day)\n    total=0\n    for temp in day:\n        total+=temp\n    avg = total/len(day)\n    print(avg)\ntemp_day()",
      "metadata": {
        "trusted": true
      },
      "outputs": [
        {
          "name": "stdout",
          "text": "Cold Temp is [8.2, 7.9, 9.0, 8.5, 7.7, 8.4, 9.5, 8.1, 7.6, 8.0, 7.8, 8.7, 9.2, 8.3, 8.9, 7.8]\nMild Temp is [14.1, 13.5, 13.0, 12.9, 13.3, 14.0, 13.4, 14.2, 12.8, 13.7, 13.6, 13.8, 13.9, 12.7, 13.1, 12.5]\nComfortable Temperature is [17.4, 18.0, 17.8, 16.5, 17.2, 16.7, 18.3, 17.9, 17.0, 16.8, 17.5, 17.1, 18.1, 16.4, 18.2, 16.6]\nNo of Cold is 16\nNo of Mild is 16\nNo of Comfortable is 16\n[47, 63, 57, 46, 64, 56, 48, 64, 55, 47, 62, 55, 46, 63, 56, 47, 62, 57, 49, 65, 56, 47, 64, 58, 46, 63, 55, 46, 62, 57, 46, 64, 56, 48, 63, 57, 49, 65, 57, 47, 62, 55, 48, 65, 56, 46, 62, 54]\nnight Temp is [7.9, 7.7, 7.6, 8.0, 7.8, 7.8]\nevening Temp is [8.2, 14.1, 13.5, 9.0, 13.0, 8.5, 12.9, 13.3, 8.4, 14.0, 9.5, 13.4, 8.1, 14.2, 12.8, 13.7, 13.6, 8.7, 13.8, 9.2, 13.9, 8.3, 12.7, 8.9, 13.1, 12.5]\nday Temperature is [17.4, 18.0, 17.8, 16.5, 17.2, 16.7, 18.3, 17.9, 17.0, 16.8, 17.5, 17.1, 18.1, 16.4, 18.2, 16.6]\n17.343750000000004\nnight Temp is [7.9, 7.7, 7.6, 8.0, 7.8, 7.8]\nevening Temp is [8.2, 14.1, 13.5, 9.0, 13.0, 8.5, 12.9, 13.3, 8.4, 14.0, 9.5, 13.4, 8.1, 14.2, 12.8, 13.7, 13.6, 8.7, 13.8, 9.2, 13.9, 8.3, 12.7, 8.9, 13.1, 12.5]\nday Temperature is [17.4, 18.0, 17.8, 16.5, 17.2, 16.7, 18.3, 17.9, 17.0, 16.8, 17.5, 17.1, 18.1, 16.4, 18.2, 16.6]\n17.343750000000004\n",
          "output_type": "stream"
        }
      ],
      "execution_count": 4
    },
    {
      "cell_type": "code",
      "source": "def sum_nested_list(nested_list):\n    total = 0\n    for element in nested_list:\n        if isinstance(element, list):\n            total+=sum_nested_list(element)\n        else:\n            total+=element\n    return total\nnested_list = [1, [2, [3, 4], 5], 6, [7, 8]]\nresult=sum_nested_list(nested_list)\nprint(\"Sum is\",result)",
      "metadata": {
        "trusted": true
      },
      "outputs": [
        {
          "name": "stdout",
          "text": "Sum is 36\n",
          "output_type": "stream"
        }
      ],
      "execution_count": 5
    },
    {
      "cell_type": "code",
      "source": "def generate_permutations(s):\n    def backtrack(path,used,result):\n        if(len(path)==len(s)):\n            result.append(\"\".join(path))\n            return\n        for i in range(len(s)):\n            if used[i]:\n                continue\n            if i>0 and s[i]==s[i-1] and not used[i-1]:\n                continue    \n\n            used[i]=True\n            path.append(s[i])\n            backtrack(path,used,result)\n            path.pop()\n            used[i]=False\n\n    result = []\n    s = sorted(s)\n    backtrack([],[False]*len(s), result)\n    return result\nprint(generate_permutations(\"abc\")) ",
      "metadata": {
        "trusted": true
      },
      "outputs": [
        {
          "name": "stdout",
          "text": "['abc', 'acb', 'bac', 'bca', 'cab', 'cba']\n",
          "output_type": "stream"
        }
      ],
      "execution_count": 6
    },
    {
      "cell_type": "code",
      "source": "def calculate_directory_size(directory):\n    size = 0\n    for value in directory.values():\n        if isinstance(value,dict):\n            size+=calculate_directory_size(directory)\n        else:\n            size+=value\n        return size\ndirectory_structure = {\n\"file1.txt\": 200,\n\"file2.txt\": 300,\n\"subdir1\": {\n\"file3.txt\": 400,\n\"file4.txt\": 100\n},\n\"subdir2\": {\n\"subsubdir1\": {\n\"file5.txt\": 250\n},\"file6.txt\": 150\n}\n}\nprint(calculate_directory_size(directory_structure))",
      "metadata": {
        "trusted": true
      },
      "outputs": [
        {
          "name": "stdout",
          "text": "200\n",
          "output_type": "stream"
        }
      ],
      "execution_count": 7
    },
    {
      "cell_type": "code",
      "source": "def min_coins(coins, amount):\n    dp = [amount + 1] * (amount + 1)\n    dp[0] = 0  \n\n    for i in range(1, amount + 1):\n        for coin in coins:\n            if i - coin >= 0:\n                dp[i] = min(dp[i], 1 + dp[i - coin])\n    \n    return dp[amount] if dp[amount] <= amount else -1\ncoins = [1, 2, 5]\namount = 11\nprint(\"Minimum coins needed:\", min_coins(coins, amount))",
      "metadata": {
        "trusted": true
      },
      "outputs": [
        {
          "name": "stdout",
          "text": "Minimum coins needed: 3\n",
          "output_type": "stream"
        }
      ],
      "execution_count": 8
    },
    {
      "cell_type": "code",
      "source": "def longest_common_subsequence(s1, s2):\n    m, n = len(s1), len(s2)\n    \n    dp = []\n    for _ in range(m + 1):\n        dp.append([0] * (n + 1))\n\n    for i in range(m):\n        for j in range(n):\n            if s1[i] == s2[j]: \n                dp[i + 1][j + 1] = dp[i][j] + 1\n            else:  \n                dp[i + 1][j + 1] = max(dp[i + 1][j], dp[i][j + 1])\n\n    return dp[m][n]\n\ns1 = \"abcde\"\ns2 = \"ace\"\nprint(\"Length of LCS:\", longest_common_subsequence(s1, s2))",
      "metadata": {
        "trusted": true
      },
      "outputs": [
        {
          "name": "stdout",
          "text": "Length of LCS: 3\n",
          "output_type": "stream"
        }
      ],
      "execution_count": 9
    },
    {
      "cell_type": "code",
      "source": "def knapsack(weights, values, capacity):\n    n = len(weights)\n    \n    dp = [[0] * (capacity + 1) for _ in range(n + 1)]\n\n    for i in range(1, n + 1):\n        for w in range(capacity + 1):\n            if weights[i - 1] <= w:  \n                dp[i][w] = max(dp[i - 1][w], values[i - 1] + dp[i - 1][w - weights[i - 1]])\n            else: \n                dp[i][w] = dp[i - 1][w]\n    \n    return dp[n][capacity]  \n\nweights = [1, 3, 4, 5]\nvalues = [1, 4, 5, 7]\ncapacity = 7\nresult = knapsack(weights, values, capacity)\n\nprint(f\"The maximum value that can be achieved is: {result}\")",
      "metadata": {
        "trusted": true
      },
      "outputs": [
        {
          "name": "stdout",
          "text": "The maximum value that can be achieved is: 9\n",
          "output_type": "stream"
        }
      ],
      "execution_count": 10
    },
    {
      "cell_type": "code",
      "source": "",
      "metadata": {
        "trusted": true
      },
      "outputs": [],
      "execution_count": null
    }
  ]
}