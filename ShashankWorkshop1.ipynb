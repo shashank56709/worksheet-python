{
  "nbformat": 4,
  "nbformat_minor": 0,
  "metadata": {
    "colab": {
      "provenance": []
    },
    "kernelspec": {
      "name": "python3",
      "display_name": "Python 3"
    },
    "language_info": {
      "name": "python"
    }
  },
  "cells": [
    {
      "cell_type": "code",
      "execution_count": null,
      "metadata": {
        "colab": {
          "base_uri": "https://localhost:8080/"
        },
        "id": "TVy3M8iUrZUV",
        "outputId": "2dc59554-9fb0-4ccb-b24b-3203ed822c63"
      },
      "outputs": [
        {
          "output_type": "stream",
          "name": "stdout",
          "text": [
            "[[4.94742041e-310 0.00000000e+000]\n",
            " [0.00000000e+000 0.00000000e+000]]\n",
            "[[1. 1.]\n",
            " [1. 1.]\n",
            " [1. 1.]\n",
            " [1. 1.]]\n",
            "[[6 6 6]\n",
            " [6 6 6]\n",
            " [6 6 6]]\n",
            "[[0 0 0]\n",
            " [0 0 0]\n",
            " [0 0 0]]\n",
            "[[1 1 1]\n",
            " [1 1 1]\n",
            " [1 1 1]]\n",
            "[1 2 3 4]\n"
          ]
        }
      ],
      "source": [
        "#Task 1\n",
        "import numpy as np\n",
        "# Question 1\n",
        "array_empty_2d = np.empty([2,2])\n",
        "print(array_empty_2d)\n",
        "# Question 2\n",
        "array_onearray = np.ones([4,2])\n",
        "print(array_onearray)\n",
        "#Question 3\n",
        "array_full = np.full([3,3],6)\n",
        "print(array_full)\n",
        "#Question 4\n",
        "array_zeros = np.zeros_like(array_full)\n",
        "print(array_zeros)\n",
        "#Question 5\n",
        "array_ones = np.ones_like(array_full)\n",
        "print(array_ones)\n",
        "#Question 6\n",
        "new_list = [1,2,3,4]\n",
        "new_array = np.array(new_list)\n",
        "print(new_array)\n",
        "\n",
        "\n",
        "\n"
      ]
    },
    {
      "cell_type": "code",
      "source": [
        "#Task 2\n",
        "import numpy as np\n",
        "#Question 1\n",
        "array_numbers = np.arange(10,50)\n",
        "print(array_numbers)\n",
        "#Question 2\n",
        "array_3d = np.arange(27).reshape(3,3,3)\n",
        "print(array_3d)\n",
        "#Question 3\n",
        "array_3d_identity = np.eye(3)\n",
        "print(array_3d_identity)\n",
        "#Question 4\n",
        "random_array = np.random.random()\n",
        "mean = np.mean(random_array)\n",
        "print(mean)\n",
        "#Question 5\n",
        "random_array_10d = np.random.rand(10,20)\n",
        "min_value = np.min(random_array_10d)\n",
        "max_value = np.max(random_array_10d)\n",
        "print(min_value)\n",
        "print(max_value)\n",
        "#Question 6\n",
        "zero_arrays = np.zeros(10)\n",
        "zero_arrays[4] = 1\n",
        "print(zero_arrays)\n",
        "#Question 7\n",
        "arr = [1,2,0,0,4,0]\n",
        "reverse_array = np.flip(arr)\n",
        "print(reverse_array)\n",
        "#Question 8\n",
        "new_array = np.zeros((4,4))\n",
        "arranged_array = np.pad(new_array, pad_width=1,mode='constant',constant_values=1)\n",
        "print(arranged_array)\n",
        "#Question 9\n",
        "checkerboard = np.zeros((8,8))\n",
        "checkerboard[1::2,::2] = 1\n",
        "checkerboard[::2,1::2] = 1\n",
        "print(checkerboard)\n",
        "\n",
        "\n"
      ],
      "metadata": {
        "colab": {
          "base_uri": "https://localhost:8080/"
        },
        "id": "0LHGhWTbvotg",
        "outputId": "3924370c-a8cf-4cea-9eed-2cc736669461"
      },
      "execution_count": null,
      "outputs": [
        {
          "output_type": "stream",
          "name": "stdout",
          "text": [
            "[10 11 12 13 14 15 16 17 18 19 20 21 22 23 24 25 26 27 28 29 30 31 32 33\n",
            " 34 35 36 37 38 39 40 41 42 43 44 45 46 47 48 49]\n",
            "[[[ 0  1  2]\n",
            "  [ 3  4  5]\n",
            "  [ 6  7  8]]\n",
            "\n",
            " [[ 9 10 11]\n",
            "  [12 13 14]\n",
            "  [15 16 17]]\n",
            "\n",
            " [[18 19 20]\n",
            "  [21 22 23]\n",
            "  [24 25 26]]]\n",
            "[[1. 0. 0.]\n",
            " [0. 1. 0.]\n",
            " [0. 0. 1.]]\n",
            "0.9679459481869698\n",
            "0.005780948774267269\n",
            "0.9961229567118466\n",
            "[0. 0. 0. 0. 1. 0. 0. 0. 0. 0.]\n",
            "[0 4 0 0 2 1]\n",
            "[[1. 1. 1. 1. 1. 1.]\n",
            " [1. 0. 0. 0. 0. 1.]\n",
            " [1. 0. 0. 0. 0. 1.]\n",
            " [1. 0. 0. 0. 0. 1.]\n",
            " [1. 0. 0. 0. 0. 1.]\n",
            " [1. 1. 1. 1. 1. 1.]]\n",
            "[[0. 1. 0. 1. 0. 1. 0. 1.]\n",
            " [1. 0. 1. 0. 1. 0. 1. 0.]\n",
            " [0. 1. 0. 1. 0. 1. 0. 1.]\n",
            " [1. 0. 1. 0. 1. 0. 1. 0.]\n",
            " [0. 1. 0. 1. 0. 1. 0. 1.]\n",
            " [1. 0. 1. 0. 1. 0. 1. 0.]\n",
            " [0. 1. 0. 1. 0. 1. 0. 1.]\n",
            " [1. 0. 1. 0. 1. 0. 1. 0.]]\n"
          ]
        }
      ]
    },
    {
      "cell_type": "code",
      "source": [
        "#Task 3\n",
        "x = np.array([[1,2],[3,5]])\n",
        "y = np.array([[5,6],[7,8]])\n",
        "v = np.array([9,10])\n",
        "w = np.array([11,12])\n",
        "#Question 1\n",
        "add = np.add(x,y)\n",
        "print(\"addition\",add)\n",
        "#Question 2\n",
        "sub = np.subtract(x,y)\n",
        "print(\"subtraction\",sub)\n",
        "#Question 3\n",
        "mul = np.multiply(v,w)\n",
        "print(\"multiplication\",mul)\n",
        "#Question 4\n",
        "square = np.square(x)\n",
        "print(\"square\",square)\n",
        "#Question 5\n",
        "dot_product1 = np.dot(v,w)\n",
        "dot_product2 = np.dot(x,v)\n",
        "dot_product3 = np.dot(x,y)\n",
        "print(\"Dot product1: \",dot_product1)\n",
        "print(\"Dot product2: \",dot_product2)\n",
        "print(\"Dot product3: \",dot_product3)\n",
        "#Question 6\n",
        "concatenate = np.concatenate((x,y),axis= 0)\n",
        "print(\"Concatenate: \",concatenate)\n",
        "#Question 7\n",
        "concatenate2 = np.concatenate((v,w),axis=1)\n",
        "print(\"Concatenate: \",concatenate2)\n",
        "#Because Dimension is different\n",
        "\n",
        "\n"
      ],
      "metadata": {
        "colab": {
          "base_uri": "https://localhost:8080/",
          "height": 491
        },
        "id": "evWmGXEWCqfL",
        "outputId": "649ab556-e0d2-47d6-eebc-664f7c76d1e9"
      },
      "execution_count": null,
      "outputs": [
        {
          "output_type": "stream",
          "name": "stdout",
          "text": [
            "addition [[ 6  8]\n",
            " [10 13]]\n",
            "subtraction [[-4 -4]\n",
            " [-4 -3]]\n",
            "multiplication [ 99 120]\n",
            "square [[ 1  4]\n",
            " [ 9 25]]\n",
            "Dot product1:  219\n",
            "Dot product2:  [29 77]\n",
            "Dot product3:  [[19 22]\n",
            " [50 58]]\n",
            "Concatenate:  [[1 2]\n",
            " [3 5]\n",
            " [5 6]\n",
            " [7 8]]\n"
          ]
        },
        {
          "output_type": "error",
          "ename": "AxisError",
          "evalue": "axis 1 is out of bounds for array of dimension 1",
          "traceback": [
            "\u001b[0;31m---------------------------------------------------------------------------\u001b[0m",
            "\u001b[0;31mAxisError\u001b[0m                                 Traceback (most recent call last)",
            "\u001b[0;32m<ipython-input-14-b1ef2ea59e88>\u001b[0m in \u001b[0;36m<cell line: 29>\u001b[0;34m()\u001b[0m\n\u001b[1;32m     27\u001b[0m \u001b[0mprint\u001b[0m\u001b[0;34m(\u001b[0m\u001b[0;34m\"Concatenate: \"\u001b[0m\u001b[0;34m,\u001b[0m\u001b[0mconcatenate\u001b[0m\u001b[0;34m)\u001b[0m\u001b[0;34m\u001b[0m\u001b[0;34m\u001b[0m\u001b[0m\n\u001b[1;32m     28\u001b[0m \u001b[0;31m#Question 7\u001b[0m\u001b[0;34m\u001b[0m\u001b[0;34m\u001b[0m\u001b[0m\n\u001b[0;32m---> 29\u001b[0;31m \u001b[0mconcatenate2\u001b[0m \u001b[0;34m=\u001b[0m \u001b[0mnp\u001b[0m\u001b[0;34m.\u001b[0m\u001b[0mconcatenate\u001b[0m\u001b[0;34m(\u001b[0m\u001b[0;34m(\u001b[0m\u001b[0mv\u001b[0m\u001b[0;34m,\u001b[0m\u001b[0mw\u001b[0m\u001b[0;34m)\u001b[0m\u001b[0;34m,\u001b[0m\u001b[0maxis\u001b[0m\u001b[0;34m=\u001b[0m\u001b[0;36m1\u001b[0m\u001b[0;34m)\u001b[0m\u001b[0;34m\u001b[0m\u001b[0;34m\u001b[0m\u001b[0m\n\u001b[0m\u001b[1;32m     30\u001b[0m \u001b[0mprint\u001b[0m\u001b[0;34m(\u001b[0m\u001b[0;34m\"Concatenate: \"\u001b[0m\u001b[0;34m,\u001b[0m\u001b[0mconcatenate2\u001b[0m\u001b[0;34m)\u001b[0m\u001b[0;34m\u001b[0m\u001b[0;34m\u001b[0m\u001b[0m\n\u001b[1;32m     31\u001b[0m \u001b[0;34m\u001b[0m\u001b[0m\n",
            "\u001b[0;31mAxisError\u001b[0m: axis 1 is out of bounds for array of dimension 1"
          ]
        }
      ]
    },
    {
      "cell_type": "code",
      "source": [
        "#Task 4\n",
        "A = np.array([[3,4],[7,8]])\n",
        "B = np.array([[5,3],[2,1]])\n",
        "#Question 1\n",
        "A_inv = np.linalg.inv(A)\n",
        "print(\"Inverse of A: \",A_inv)\n",
        "A_pro = np.dot(A,A_inv)\n",
        "A_result = np.round(A_pro)\n",
        "print(\"Result of A: \",A_result)\n",
        "#Question 2\n",
        "AB_ind_pro = np.dot(A,B)\n",
        "AB_result = np.round(AB_ind_pro)\n",
        "print(\"Result of AB: \",AB_result)\n",
        "BA_ind_pro = np.dot(B,A)\n",
        "BA_result = np.round(BA_ind_pro)\n",
        "print(\"Result of AB: \",BA_result)\n",
        "#Question 3\n",
        "AB_transpose = np.transpose(AB_ind_pro)\n",
        "print(\"Transpose of AB: \",AB_transpose)\n",
        "A_transpose = np.transpose(A)\n",
        "B_transpose = np.transpose(B)\n",
        "AB_transpose_pro = np.dot(A_transpose,B_transpose)\n",
        "AB_transpose_result = np.round(AB_transpose_pro)\n",
        "print(\"Result of AB transpose: \",AB_transpose_result)\n",
        "#Question 4\n",
        "array_1=np.array([[2,-3,1],[1,-1,2],[3,1,-1]])\n",
        "array_2 = np.array([-1,-3,9])\n",
        "array1_inv = np.linalg.inv(array_1)\n",
        "X = np.dot(array1_inv,array_2 )\n",
        "print(X)\n",
        "\n",
        "\n"
      ],
      "metadata": {
        "colab": {
          "base_uri": "https://localhost:8080/"
        },
        "id": "DfwVdqZWHiQx",
        "outputId": "5085d09f-185d-44c9-9735-e6479d0d49c4"
      },
      "execution_count": null,
      "outputs": [
        {
          "output_type": "stream",
          "name": "stdout",
          "text": [
            "Inverse of A:  [[-2.    1.  ]\n",
            " [ 1.75 -0.75]]\n",
            "Result of A:  [[1. 0.]\n",
            " [0. 1.]]\n",
            "Result of AB:  [[23 13]\n",
            " [51 29]]\n",
            "Result of AB:  [[36 44]\n",
            " [13 16]]\n",
            "Transpose of AB:  [[23 51]\n",
            " [13 29]]\n",
            "Result of AB transpose:  [[36 13]\n",
            " [44 16]]\n",
            "[ 2.  1. -2.]\n"
          ]
        }
      ]
    }
  ]
}